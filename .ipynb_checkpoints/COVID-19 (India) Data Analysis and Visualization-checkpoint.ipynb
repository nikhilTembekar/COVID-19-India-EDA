{
 "cells": [
  {
   "cell_type": "markdown",
   "metadata": {},
   "source": [
    "# COVID-19 (India) Data Analysis and Visualization\n",
    "\n",
    "This notebook uses data analysis and visualization to analyze the effects of the ongoing COVID-19 pandemic in India, and create visualizations for important observations made during the analysis.\n",
    "\n",
    "**Language:** Python 3\n",
    "\n",
    "**Dataset:** [COVID-19 in India](https://www.kaggle.com/sudalairajkumar/covid19-in-india)\n",
    "\n",
    "I would like to thank [Sudalai Rajkumar (SRK)](https://www.kaggle.com/sudalairajkumar) for creating this dataset!\n",
    "\n",
    "**Libraries:**\n",
    "  * [_NumPy_](https://numpy.org/)\n",
    "  * [_Pandas_](https://pandas.pydata.org/)\n",
    "  * [_Seaborn_](https://seaborn.pydata.org/)\n",
    "  * [_Matplotlib_](https://matplotlib.org/)"
   ]
  },
  {
   "cell_type": "markdown",
   "metadata": {},
   "source": [
    "## Importing libraries"
   ]
  },
  {
   "cell_type": "code",
   "execution_count": null,
   "metadata": {
    "_cell_guid": "79c7e3d0-c299-4dcb-8224-4455121ee9b0",
    "_kg_hide-input": true,
    "_uuid": "d629ff2d2480ee46fbb7e2d37f6b5fab8052498a"
   },
   "outputs": [],
   "source": [
    "# import libraries for data analysis\n",
    "import numpy as np\n",
    "import pandas as pd\n",
    "\n",
    "# import libraries for data visualization\n",
    "import seaborn as sns\n",
    "import matplotlib.pyplot as plt\n",
    "%matplotlib inline\n",
    "sns.set_style(style = 'whitegrid', rc = {'xtick.bottom': True, 'ytick.left': True})"
   ]
  },
  {
   "cell_type": "markdown",
   "metadata": {},
   "source": [
    "## Reading, exploring and cleaning the data"
   ]
  },
  {
   "cell_type": "code",
   "execution_count": null,
   "metadata": {
    "_kg_hide-input": true
   },
   "outputs": [],
   "source": [
    "# read data from the dataset into dataframes\n",
    "age_group_details = pd.read_csv('AgeGroupDetails.csv')\n",
    "covid_19_india = pd.read_csv('covid_19_india.csv')\n",
    "hospital_beds_india = pd.read_csv('HospitalBedsIndia.csv')\n",
    "icmr_testing_details = pd.read_csv('ICMRTestingDetails.csv')\n",
    "individual_details = pd.read_csv('IndividualDetails.csv')\n",
    "population_india_census_2011 = pd.read_csv('population_india_census2011.csv')\n",
    "\n",
    "# explore each of the dataframes (below)"
   ]
  },
  {
   "cell_type": "code",
   "execution_count": null,
   "metadata": {
    "_kg_hide-input": true,
    "_kg_hide-output": true
   },
   "outputs": [],
   "source": [
    "age_group_details.head()"
   ]
  },
  {
   "cell_type": "code",
   "execution_count": null,
   "metadata": {
    "_kg_hide-input": true,
    "_kg_hide-output": true
   },
   "outputs": [],
   "source": [
    "covid_19_india.head()"
   ]
  },
  {
   "cell_type": "code",
   "execution_count": null,
   "metadata": {
    "_kg_hide-input": true,
    "_kg_hide-output": true
   },
   "outputs": [],
   "source": [
    "hospital_beds_india.head()"
   ]
  },
  {
   "cell_type": "code",
   "execution_count": null,
   "metadata": {
    "_kg_hide-input": true,
    "_kg_hide-output": true
   },
   "outputs": [],
   "source": [
    "icmr_testing_details.head()"
   ]
  },
  {
   "cell_type": "code",
   "execution_count": null,
   "metadata": {
    "_kg_hide-input": true,
    "_kg_hide-output": true
   },
   "outputs": [],
   "source": [
    "individual_details.head()"
   ]
  },
  {
   "cell_type": "code",
   "execution_count": null,
   "metadata": {
    "_kg_hide-input": true,
    "_kg_hide-output": true
   },
   "outputs": [],
   "source": [
    "population_india_census_2011.head()"
   ]
  },
  {
   "cell_type": "code",
   "execution_count": null,
   "metadata": {
    "_kg_hide-input": true
   },
   "outputs": [],
   "source": [
    "# update the state name for Telangana\n",
    "population_india_census_2011['State / Union Territory'] = population_india_census_2011['State / Union Territory'].apply(lambda name : 'Telangana' if name == 'Telengana' else name)\n",
    "\n",
    "# update the district name for Ahmedabad\n",
    "individual_details['detected_district'] = individual_details['detected_district'].apply(lambda name : 'Ahmedabad' if name == 'Ahmadabad' else name)\n",
    "\n",
    "# udpate the city name for Ahmedabad\n",
    "individual_details['detected_city'] = individual_details['detected_city'].apply(lambda name : 'Ahmedabad' if name == 'Ahmadabad' else name)"
   ]
  },
  {
   "cell_type": "markdown",
   "metadata": {},
   "source": [
    "## Data analysis and visualization"
   ]
  },
  {
   "cell_type": "markdown",
   "metadata": {},
   "source": [
    "### 1 Cumulative number of cases (categorised by current health status) grouped by date"
   ]
  },
  {
   "cell_type": "markdown",
   "metadata": {},
   "source": [
    "#### 1.1 Creating a dataframe with number of cases (categorised by current health status) grouped by date [CUMULATIVE]"
   ]
  },
  {
   "cell_type": "code",
   "execution_count": null,
   "metadata": {
    "_kg_hide-input": true,
    "_kg_hide-output": true
   },
   "outputs": [],
   "source": [
    "date_cumulative = covid_19_india.groupby('Date').sum()\n",
    "date_cumulative.reset_index(inplace = True)\n",
    "\n",
    "# change the date format to 'YYYY-MM-DD'\n",
    "date_cumulative['Date'] = date_cumulative['Date'].apply(lambda date : '20' + '-'.join(date.split('/')[::-1]))\n",
    "\n",
    "# sort the rows by date (in ascending order)\n",
    "date_cumulative.sort_values('Date', inplace = True)\n",
    "\n",
    "# calculate the number of active cases\n",
    "date_cumulative['Active'] = date_cumulative['Confirmed'] - (date_cumulative['Cured'] + date_cumulative['Deaths'])\n",
    "\n",
    "date_cumulative = date_cumulative[['Date', 'Confirmed', 'Cured', 'Deaths', 'Active']]\n",
    "\n",
    "# dataframe with number of cases (categorised by current health status) grouped by date [CUMULATIVE]\n",
    "date_cumulative.head()"
   ]
  },
  {
   "cell_type": "markdown",
   "metadata": {},
   "source": [
    "#### 1.2 Plot"
   ]
  },
  {
   "cell_type": "code",
   "execution_count": null,
   "metadata": {
    "_kg_hide-input": true
   },
   "outputs": [],
   "source": [
    "plt.figure(figsize=(16, 6), dpi = 100)\n",
    "sns.lineplot(x = 'Date', y = 'Confirmed', data = date_cumulative, label = 'Confirmed', color = 'blue', marker = 'o')\n",
    "sns.lineplot(x = 'Date', y = 'Cured', data = date_cumulative, label = 'Cured', color = 'green')\n",
    "sns.lineplot(x = 'Date', y = 'Deaths', data = date_cumulative, label = 'Deaths', color = 'black') \n",
    "sns.lineplot(x = 'Date', y = 'Active', data = date_cumulative, label = 'Active', color = 'red')\n",
    "plt.title('Cumulative number of cases (categorised by current health status) grouped by date')\n",
    "plt.ylabel('Number of cases')\n",
    "plt.legend(loc = 0)\n",
    "plt.xticks(rotation = 90)\n",
    "plt.tight_layout()\n",
    "plt.show()"
   ]
  },
  {
   "cell_type": "markdown",
   "metadata": {},
   "source": [
    "### 2 Total positive cases in each age group"
   ]
  },
  {
   "cell_type": "markdown",
   "metadata": {},
   "source": [
    "#### 2.1 Plot"
   ]
  },
  {
   "cell_type": "code",
   "execution_count": null,
   "metadata": {
    "_kg_hide-input": true
   },
   "outputs": [],
   "source": [
    "plt.figure(figsize=(8, 5), dpi = 100)\n",
    "sns.barplot(x = 'AgeGroup', y = 'TotalCases', data = age_group_details, palette = 'icefire')\n",
    "plt.title('Total positive cases in each age group')\n",
    "plt.xlabel('Age group')\n",
    "plt.ylabel('Total positive cases')\n",
    "plt.tight_layout()\n",
    "plt.show()"
   ]
  },
  {
   "cell_type": "markdown",
   "metadata": {},
   "source": [
    "### 3 Total cases in India and each of its states and union territories"
   ]
  },
  {
   "cell_type": "markdown",
   "metadata": {},
   "source": [
    "#### 3.1 Creating a dataframe with important data from each state/union territory as well as India"
   ]
  },
  {
   "cell_type": "code",
   "execution_count": null,
   "metadata": {
    "_kg_hide-input": true,
    "_kg_hide-output": true
   },
   "outputs": [],
   "source": [
    "temp_state = covid_19_india.groupby('State/UnionTerritory').max()\n",
    "temp_state.reset_index(inplace = True)\n",
    "temp_state['Active'] = temp_state['Confirmed'] - (temp_state['Cured'] + temp_state['Deaths'])\n",
    "temp_state = temp_state[['State/UnionTerritory', 'Confirmed', 'Cured', 'Deaths', 'Active']]\n",
    "temp_state.rename(columns = {'State/UnionTerritory': 'State / Union Territory'}, inplace = True)\n",
    "temp_state['State / Union Territory'] = temp_state['State / Union Territory'].apply(lambda name : 'Telangana' if name == 'Telengana' else name)\n",
    "\n",
    "# calculate the number of cases (categorised by current health status) for India and add them to the dataframe\n",
    "# index number 41 is chosen to avoid any loss of data (as of now, the total number of states and UTs in India is 28 + 8 = 36)\n",
    "temp_state.loc[41] = ['India', temp_state['Confirmed'].sum(), temp_state['Cured'].sum(), temp_state['Deaths'].sum(), temp_state['Active'].sum()]\n",
    " \n",
    "temp_state.head()"
   ]
  },
  {
   "cell_type": "code",
   "execution_count": null,
   "metadata": {
    "_kg_hide-input": true,
    "_kg_hide-output": true
   },
   "outputs": [],
   "source": [
    "# calculate India's total area\n",
    "total_area_india_km2 = population_india_census_2011['Area'].apply(lambda area : float(area.split('\\xa0')[0].replace(',', ''))).sum()\n",
    "\n",
    "temp_population = population_india_census_2011[['State / Union Territory', 'Population', 'Density']]\n",
    "temp_population['Density (per km2)'] = temp_population['Density'].apply(lambda density : float(density.split('/')[0].replace(',', '')))\n",
    "temp_population.drop(columns = ['Density'], inplace = True)\n",
    "\n",
    "# calculate India's total population\n",
    "total_population_india = temp_population['Population'].sum()\n",
    "\n",
    "# calculate India's total population density\n",
    "density_india = total_population_india / total_area_india_km2\n",
    "\n",
    "temp_population.loc[41] = ['India', total_population_india, density_india]\n",
    "temp_population.head()"
   ]
  },
  {
   "cell_type": "code",
   "execution_count": null,
   "metadata": {
    "_kg_hide-input": true,
    "_kg_hide-output": true
   },
   "outputs": [],
   "source": [
    "statewise_data = pd.merge(left = temp_state, right = temp_population, on = 'State / Union Territory', how = 'inner')\n",
    "\n",
    "# selecting India's data from the merged dataframe and storing it as a series in a variable\n",
    "india_data = statewise_data.iloc[-1]\n",
    "\n",
    "# dropping India's data stored in the last row of the dataframe\n",
    "statewise_data.drop(statewise_data.tail(1).index, inplace = True)\n",
    "\n",
    "# storing India's data in a row with index number 41 in the dataframe\n",
    "statewise_data.loc[41] = india_data\n",
    "\n",
    "# dataframe with important data from each state/union territory as well as India\n",
    "statewise_data.head()"
   ]
  },
  {
   "cell_type": "markdown",
   "metadata": {},
   "source": [
    "#### 3.2 Plot"
   ]
  },
  {
   "cell_type": "code",
   "execution_count": null,
   "metadata": {
    "_kg_hide-input": true
   },
   "outputs": [],
   "source": [
    "statewise_data.drop(41)[['State / Union Territory', 'Cured', 'Deaths', 'Active']].plot.bar(x = 'State / Union Territory', stacked = True, figsize = (15, 9))\n",
    "plt.title('Total cases in Indian states and UTs')\n",
    "plt.ylabel('Total cases')\n",
    "plt.tight_layout()\n",
    "plt.show()"
   ]
  },
  {
   "cell_type": "markdown",
   "metadata": {},
   "source": [
    "#### 3.3 Number of cases in India"
   ]
  },
  {
   "cell_type": "code",
   "execution_count": null,
   "metadata": {
    "_kg_hide-input": true
   },
   "outputs": [],
   "source": [
    "total_cases_national = statewise_data.loc[41]['Confirmed']\n",
    "active_national = statewise_data.loc[41]['Active']\n",
    "cured_national = statewise_data.loc[41]['Cured']\n",
    "deaths_national = statewise_data.loc[41]['Deaths']\n",
    "print('NUMBER OF CASES IN INDIA\\n')\n",
    "print(f'Total: {total_cases_national}')\n",
    "print(f'Active: {active_national}')\n",
    "print(f'Cured: {cured_national}')\n",
    "print(f'Deaths: {deaths_national}')"
   ]
  },
  {
   "cell_type": "markdown",
   "metadata": {},
   "source": [
    "### 4 Non-cumulative number of cases (categorised by current health status) grouped by date"
   ]
  },
  {
   "cell_type": "markdown",
   "metadata": {},
   "source": [
    "#### 4.1 Creating a dataframe with number of cases (categorised by current health status) grouped by date [NON-CUMULATIVE]"
   ]
  },
  {
   "cell_type": "code",
   "execution_count": null,
   "metadata": {
    "_kg_hide-input": true,
    "_kg_hide-output": true
   },
   "outputs": [],
   "source": [
    "datewise_count = individual_details[individual_details['current_status'] != 'Migrated']\n",
    "datewise_count = datewise_count.groupby(['diagnosed_date', 'current_status']).count()['id'].unstack()\n",
    "datewise_count.fillna(0, inplace = True)\n",
    "datewise_count.reset_index(inplace = True)\n",
    "\n",
    "# change the date format to 'YYYY-MM-DD'\n",
    "datewise_count['diagnosed_date'] = datewise_count['diagnosed_date'].apply(lambda date : '-'.join(date.split('/')[::-1]))\n",
    "\n",
    "datewise_count.sort_values('diagnosed_date', inplace = True)\n",
    "datewise_count.rename(columns = {'Deceased': 'Deaths', 'Hospitalized': 'Active', 'Recovered': 'Cured'}, inplace = True)\n",
    "\n",
    "# calculate the total number of confirmed cases\n",
    "datewise_count['Confirmed'] = datewise_count['Active'] + datewise_count['Cured'] + datewise_count['Deaths']\n",
    "\n",
    "datewise_count['Deaths'] = datewise_count['Deaths'].apply(lambda num : int(num))\n",
    "datewise_count['Active'] = datewise_count['Active'].apply(lambda num : int(num))\n",
    "datewise_count['Cured'] = datewise_count['Cured'].apply(lambda num : int(num))\n",
    "datewise_count['Confirmed'] = datewise_count['Confirmed'].apply(lambda num : int(num))\n",
    "datewise_count = datewise_count[['diagnosed_date', 'Confirmed', 'Deaths', 'Cured', 'Active']]\n",
    "\n",
    "# dataframe with number of cases (categorised by current health status) grouped by date [NON-CUMULATIVE]\n",
    "datewise_count.head()"
   ]
  },
  {
   "cell_type": "markdown",
   "metadata": {},
   "source": [
    "#### 4.2 Plot"
   ]
  },
  {
   "cell_type": "code",
   "execution_count": null,
   "metadata": {
    "_kg_hide-input": true
   },
   "outputs": [],
   "source": [
    "datewise_count.drop(columns = ['Confirmed']).plot.bar(x = 'diagnosed_date', stacked = True, figsize = (18, 8))\n",
    "plt.title('Non-cumulative number of cases (categorised by current health status) grouped by date')\n",
    "plt.xlabel('Date')\n",
    "plt.ylabel('Number of cases')\n",
    "plt.tight_layout()\n",
    "plt.show()"
   ]
  },
  {
   "cell_type": "markdown",
   "metadata": {},
   "source": [
    "### 5 Total cases per million people in India and each of its states and union territories"
   ]
  },
  {
   "cell_type": "markdown",
   "metadata": {},
   "source": [
    "#### 5.1 Calculation from available data"
   ]
  },
  {
   "cell_type": "code",
   "execution_count": null,
   "metadata": {
    "_kg_hide-input": true,
    "_kg_hide-output": true
   },
   "outputs": [],
   "source": [
    "# calculate total cases per million people for each state/union territory and India\n",
    "statewise_data['Total cases per million people'] = statewise_data['Confirmed'] / statewise_data['Population'] * pow(10, 6)\n",
    "statewise_data.head()"
   ]
  },
  {
   "cell_type": "markdown",
   "metadata": {},
   "source": [
    "#### 5.2 Plot"
   ]
  },
  {
   "cell_type": "code",
   "execution_count": null,
   "metadata": {
    "_kg_hide-input": true
   },
   "outputs": [],
   "source": [
    "plt.figure(figsize=(11, 7), dpi = 100)\n",
    "sns.barplot(x = 'State / Union Territory', y = 'Total cases per million people', data = statewise_data, palette = 'viridis')\n",
    "plt.title('Total cases per million people in India and each of its states and UTs')\n",
    "plt.xticks(rotation = 90)\n",
    "plt.tight_layout()\n",
    "plt.show()"
   ]
  },
  {
   "cell_type": "markdown",
   "metadata": {},
   "source": [
    "### 6 Age distribution of positive cases in India and each of its states and union territories"
   ]
  },
  {
   "cell_type": "markdown",
   "metadata": {},
   "source": [
    "#### 6.1 Data cleaning"
   ]
  },
  {
   "cell_type": "code",
   "execution_count": null,
   "metadata": {
    "_kg_hide-input": true,
    "_kg_hide-output": true
   },
   "outputs": [],
   "source": [
    "# create a list of the Indian states where positive COVID-19 cases have been reported\n",
    "list_of_states = list(individual_details['detected_state'].unique())\n",
    "\n",
    "# create a list of nationalities of all the positive COVID-19 cases reported in India\n",
    "list_of_nations = list(individual_details[individual_details['nationality'].isnull() == False]['nationality'].unique())\n",
    "\n",
    "temp_age = individual_details[['age', 'detected_state', 'nationality', 'current_status']]\n",
    "for i in temp_age.index:\n",
    "    if temp_age.loc[i]['detected_state'] in list_of_states and temp_age.loc[i]['nationality'] not in list_of_nations:\n",
    "        # assign nationality as 'India', if detected state is in the list of Indian states but nationality is not in the list of reported nationalities\n",
    "        temp_age.loc[i]['nationality'] = 'India'\n",
    "        \n",
    "# select only those cases whose nationality is mentioned as 'India'\n",
    "temp_age = temp_age[temp_age['nationality'] == 'India']\n",
    "\n",
    "# drop the rows where age is mentioned as 'F' or 'M'\n",
    "temp_age = temp_age[(temp_age['age'] != 'F') & (temp_age['age'] != 'M')]\n",
    "\n",
    "# drop the rows where age is not mentioned\n",
    "temp_age.dropna(subset = ['age'], inplace = True)\n",
    "\n",
    "# if age is mentioned as '28-35', update it with the mean value, i.e. 32 (the actual mean value is 31.5, but since we want to assign a value for age, we use 32)\n",
    "temp_age['age'] = temp_age['age'].apply(lambda age : int(32) if age == '28-35' else int(age))\n",
    "\n",
    "temp_age.head()"
   ]
  },
  {
   "cell_type": "markdown",
   "metadata": {},
   "source": [
    "#### 6.2 Plot (States and union territories)"
   ]
  },
  {
   "cell_type": "code",
   "execution_count": null,
   "metadata": {
    "_kg_hide-input": true
   },
   "outputs": [],
   "source": [
    "plt.figure(figsize=(13, 7), dpi = 100)\n",
    "sns.boxplot(x = 'detected_state', y = 'age', data = temp_age, palette = 'Set1')\n",
    "plt.title('Age distribution of positive cases in Indian states and UTs')\n",
    "plt.xlabel('State / Union Territory')\n",
    "plt.ylabel('Age')\n",
    "plt.xticks(rotation = 90)\n",
    "plt.tight_layout()\n",
    "plt.show()"
   ]
  },
  {
   "cell_type": "markdown",
   "metadata": {},
   "source": [
    "#### 6.3 Plot (India)"
   ]
  },
  {
   "cell_type": "code",
   "execution_count": null,
   "metadata": {
    "_kg_hide-input": true
   },
   "outputs": [],
   "source": [
    "plt.figure(figsize=(5, 5), dpi = 100)\n",
    "sns.boxplot(x = 'nationality', y = 'age', data = temp_age, palette = 'viridis')\n",
    "plt.title('Age distribution of positive cases in India')\n",
    "plt.xlabel('')\n",
    "plt.ylabel('Age')\n",
    "plt.tight_layout()\n",
    "plt.show()"
   ]
  },
  {
   "cell_type": "markdown",
   "metadata": {},
   "source": [
    "### 7 National descriptive statistics (Age)"
   ]
  },
  {
   "cell_type": "markdown",
   "metadata": {},
   "source": [
    "#### 7.1 Ages of all positive cases in India"
   ]
  },
  {
   "cell_type": "code",
   "execution_count": null,
   "metadata": {
    "_kg_hide-input": true
   },
   "outputs": [],
   "source": [
    "print('NATIONAL DESCRIPTIVE STATISTICS (Ages of all positive cases in India)\\n')\n",
    "print(temp_age.describe()['age'])"
   ]
  },
  {
   "cell_type": "markdown",
   "metadata": {},
   "source": [
    "#### 7.2 Ages of positive cases in India (grouped by current health status)"
   ]
  },
  {
   "cell_type": "code",
   "execution_count": null,
   "metadata": {
    "_kg_hide-input": true
   },
   "outputs": [],
   "source": [
    "print('NATIONAL DESCRIPTIVE STATISTICS (Ages of positive cases in India, grouped by current health status)\\n')\n",
    "print(temp_age.groupby('current_status').describe()['age'])"
   ]
  },
  {
   "cell_type": "markdown",
   "metadata": {},
   "source": [
    "### 8 Correlation between population (or, population density) and total positive cases"
   ]
  },
  {
   "cell_type": "markdown",
   "metadata": {},
   "source": [
    "#### 8.1 Heat map"
   ]
  },
  {
   "cell_type": "code",
   "execution_count": null,
   "metadata": {
    "_kg_hide-input": true
   },
   "outputs": [],
   "source": [
    "plt.figure(figsize=(6, 4), dpi = 100)\n",
    "sns.heatmap(statewise_data.drop(columns = ['Cured', 'Deaths', 'Active', 'Total cases per million people']).corr(), cmap = 'viridis_r')\n",
    "plt.yticks(rotation = 0)\n",
    "plt.tight_layout()\n",
    "plt.show()"
   ]
  },
  {
   "cell_type": "markdown",
   "metadata": {},
   "source": [
    "#### 8.2 Simple linear regression (independent variable: Population, dependent variable: Total positive cases)"
   ]
  },
  {
   "cell_type": "code",
   "execution_count": null,
   "metadata": {
    "_kg_hide-input": true
   },
   "outputs": [],
   "source": [
    "sns.jointplot(x = 'Population', y = 'Confirmed', data = statewise_data.drop(41), kind = 'reg', color = 'crimson')\n",
    "plt.ylabel('Total positive cases')\n",
    "plt.tight_layout()\n",
    "plt.show()"
   ]
  },
  {
   "cell_type": "markdown",
   "metadata": {},
   "source": [
    "#### 8.3 Simple linear regression (independent variable: Density per km<sup>2</sup>, dependent variable: Total positive cases)"
   ]
  },
  {
   "cell_type": "code",
   "execution_count": null,
   "metadata": {
    "_kg_hide-input": true
   },
   "outputs": [],
   "source": [
    "sns.jointplot(x = 'Density (per km2)', y = 'Confirmed', data = statewise_data.drop(41), kind = 'reg', color = 'navy')\n",
    "plt.ylabel('Total positive cases')\n",
    "plt.tight_layout()\n",
    "plt.show()"
   ]
  },
  {
   "cell_type": "markdown",
   "metadata": {},
   "source": [
    "### 9 Public health facilities in India and each of its states and union territories"
   ]
  },
  {
   "cell_type": "markdown",
   "metadata": {},
   "source": [
    "#### 9.1 Creating a dataframe with public health facility details for each state/UT and India"
   ]
  },
  {
   "cell_type": "code",
   "execution_count": null,
   "metadata": {
    "_kg_hide-input": true,
    "_kg_hide-output": true
   },
   "outputs": [],
   "source": [
    "hospital_details = hospital_beds_india[['State/UT', 'TotalPublicHealthFacilities_HMIS', 'NumPublicBeds_HMIS']]\n",
    "hospital_details.rename(columns = {'State/UT': 'State / Union Territory'}, inplace = True)\n",
    "hospital_details['State / Union Territory'] = hospital_details['State / Union Territory'].apply(lambda name : str(name).replace('&', 'and'))\n",
    "hospital_details.dropna(inplace = True)\n",
    "hospital_details['TotalPublicHealthFacilities_HMIS'] = hospital_details['TotalPublicHealthFacilities_HMIS'].apply(lambda count : int(str(count).replace(',', '')))\n",
    "hospital_details['NumPublicBeds_HMIS'] = hospital_details['NumPublicBeds_HMIS'].apply(lambda count : int(str(count).replace(',', '')))\n",
    "\n",
    "# merge (or, add) the details for Dadra and Nagar Haveli & Daman and Diu (as the former UTs have been merged into a single UT) and update the dataframe\n",
    "dnhdd = hospital_details[(hospital_details['State / Union Territory'] == 'Dadra and Nagar Haveli') | (hospital_details['State / Union Territory'] == 'Daman and Diu')].sum()\n",
    "hospital_details.drop(index = [7, 8, 36], inplace = True)\n",
    "hospital_details.loc[36] = ['Dadra and Nagar Haveli and Daman and Diu', dnhdd['TotalPublicHealthFacilities_HMIS'], dnhdd['NumPublicBeds_HMIS']]\n",
    "\n",
    "hospital_details.sort_values('State / Union Territory', inplace = True)\n",
    "hospital_details.loc[37] = ['India', hospital_details['TotalPublicHealthFacilities_HMIS'].sum(), hospital_details['NumPublicBeds_HMIS'].sum()]\n",
    "hospital_details = pd.merge(left = hospital_details, right = temp_population.drop(columns = ['Density (per km2)']), on = 'State / Union Territory', how = 'inner')\n",
    "\n",
    "# calculate public health facility details per 1000 people for each state/UT as well as India\n",
    "hospital_details['TotalPublicHealthFacilities/1000 people'] = (hospital_details['TotalPublicHealthFacilities_HMIS'] / hospital_details['Population']) * 1000\n",
    "hospital_details['NumPublicBeds/1000 people'] = (hospital_details['NumPublicBeds_HMIS'] / hospital_details['Population']) * 1000\n",
    "\n",
    "# dataframe with public health facility details for each state/UT and India\n",
    "hospital_details.head()"
   ]
  },
  {
   "cell_type": "markdown",
   "metadata": {},
   "source": [
    "#### 9.2 Population of each state/UT (Plot)"
   ]
  },
  {
   "cell_type": "code",
   "execution_count": null,
   "metadata": {
    "_kg_hide-input": true
   },
   "outputs": [],
   "source": [
    "plt.figure(figsize=(13, 8), dpi = 100)\n",
    "sns.barplot(x = 'State / Union Territory', y = 'Population', data = hospital_details.drop(35), palette = 'viridis')\n",
    "plt.title('Population of each state/UT')\n",
    "plt.xticks(rotation = 90)\n",
    "plt.tight_layout()\n",
    "plt.show()"
   ]
  },
  {
   "cell_type": "markdown",
   "metadata": {},
   "source": [
    "#### 9.3 Total public health facilities in each state/UT (Plot)"
   ]
  },
  {
   "cell_type": "code",
   "execution_count": null,
   "metadata": {
    "_kg_hide-input": true
   },
   "outputs": [],
   "source": [
    "plt.figure(figsize=(13, 8), dpi = 100)\n",
    "sns.barplot(x = 'State / Union Territory', y = 'TotalPublicHealthFacilities_HMIS', data = hospital_details.drop(35), palette = 'viridis')\n",
    "plt.title('Total public health facilities in each state/UT')\n",
    "plt.ylabel('Total public health facilities')\n",
    "plt.xticks(rotation = 90)\n",
    "plt.tight_layout()\n",
    "plt.show()"
   ]
  },
  {
   "cell_type": "markdown",
   "metadata": {},
   "source": [
    "#### 9.4 Number of public beds in each state/UT (Plot)"
   ]
  },
  {
   "cell_type": "code",
   "execution_count": null,
   "metadata": {
    "_kg_hide-input": true,
    "_kg_hide-output": false
   },
   "outputs": [],
   "source": [
    "plt.figure(figsize=(13, 8), dpi = 100)\n",
    "sns.barplot(x = 'State / Union Territory', y = 'NumPublicBeds_HMIS', data = hospital_details.drop(35), palette = 'viridis')\n",
    "plt.title('Number of public beds in each state/UT')\n",
    "plt.ylabel('Number of public beds')\n",
    "plt.xticks(rotation = 90)\n",
    "plt.tight_layout()\n",
    "plt.show()"
   ]
  },
  {
   "cell_type": "markdown",
   "metadata": {},
   "source": [
    "#### 9.5 Total public health facilities per 1000 people in each state/UT and India (Plot)"
   ]
  },
  {
   "cell_type": "code",
   "execution_count": null,
   "metadata": {
    "_kg_hide-input": true
   },
   "outputs": [],
   "source": [
    "plt.figure(figsize=(13, 8), dpi = 100)\n",
    "sns.barplot(x = 'State / Union Territory', y = 'TotalPublicHealthFacilities/1000 people', data = hospital_details, palette = 'viridis')\n",
    "plt.title('Total public health facilities per 1000 people in each state/UT and India')\n",
    "plt.ylabel('Total public health facilities per 1000 people')\n",
    "plt.xticks(rotation = 90)\n",
    "plt.tight_layout()\n",
    "plt.show()"
   ]
  },
  {
   "cell_type": "markdown",
   "metadata": {},
   "source": [
    "#### 9.6 Number of public beds per 1000 people in each state/UT and India (Plot)"
   ]
  },
  {
   "cell_type": "code",
   "execution_count": null,
   "metadata": {
    "_kg_hide-input": true
   },
   "outputs": [],
   "source": [
    "plt.figure(figsize=(13, 8), dpi = 100)\n",
    "sns.barplot(x = 'State / Union Territory', y = 'NumPublicBeds/1000 people', data = hospital_details, palette = 'viridis')\n",
    "plt.title('Number of public beds per 1000 people in each state/UT and India')\n",
    "plt.ylabel('Number of public beds per 1000 people')\n",
    "plt.xticks(rotation = 90)\n",
    "plt.tight_layout()\n",
    "plt.show()"
   ]
  },
  {
   "cell_type": "markdown",
   "metadata": {},
   "source": [
    "#### 9.7 Correlation heat map"
   ]
  },
  {
   "cell_type": "code",
   "execution_count": null,
   "metadata": {
    "_kg_hide-input": true
   },
   "outputs": [],
   "source": [
    "plt.figure(figsize=(8, 7), dpi = 100)\n",
    "sns.heatmap(hospital_details.corr(), cmap = 'viridis_r')\n",
    "plt.tight_layout()\n",
    "plt.show()"
   ]
  },
  {
   "cell_type": "markdown",
   "metadata": {},
   "source": [
    "### 10 Indian Council of Medical Research (ICMR) testing details"
   ]
  },
  {
   "cell_type": "markdown",
   "metadata": {},
   "source": [
    "#### 10.1 Data cleaning"
   ]
  },
  {
   "cell_type": "code",
   "execution_count": null,
   "metadata": {
    "_kg_hide-input": true,
    "_kg_hide-output": true
   },
   "outputs": [],
   "source": [
    "testing_details = icmr_testing_details[['TotalSamplesTested', 'TotalPositiveCases']]\n",
    "\n",
    "# change the date format to 'YYYY-MM-DD'\n",
    "testing_details['Date'] = icmr_testing_details['DateTime'].apply(lambda dt : '20' + '-'.join(dt.split(' ')[0].split('/')[::-1]))\n",
    "\n",
    "testing_details = testing_details[['Date', 'TotalSamplesTested', 'TotalPositiveCases']]\n",
    "\n",
    "# dataframe with date-wise testing details provided by the Indian Council of Medical Research (ICMR)\n",
    "testing_details.head() "
   ]
  },
  {
   "cell_type": "markdown",
   "metadata": {},
   "source": [
    "#### 10.2 Total samples tested and total positive cases reported on each date (Plot)"
   ]
  },
  {
   "cell_type": "code",
   "execution_count": null,
   "metadata": {
    "_kg_hide-input": true
   },
   "outputs": [],
   "source": [
    "plt.figure(figsize=(16, 6), dpi = 100)\n",
    "sns.lineplot(x = 'Date', y = 'TotalSamplesTested', data = testing_details, label = 'Total samples tested', color = 'navy', marker = 'o') \n",
    "sns.lineplot(x = 'Date', y = 'TotalPositiveCases', data = testing_details, label = 'Total positive cases', color = 'crimson', marker = 'o')\n",
    "plt.title('Indian Council of Medical Research (ICMR) testing details')\n",
    "plt.ylabel('Count')\n",
    "plt.legend(loc = 0)\n",
    "plt.xticks(rotation = 90)\n",
    "plt.tight_layout()\n",
    "plt.show()"
   ]
  },
  {
   "cell_type": "markdown",
   "metadata": {},
   "source": [
    "#### 10.3 Simple linear regression (independent variable: Total samples tested, dependent variable: Total positive cases)"
   ]
  },
  {
   "cell_type": "code",
   "execution_count": null,
   "metadata": {
    "_kg_hide-input": true
   },
   "outputs": [],
   "source": [
    "sns.jointplot(x = 'TotalSamplesTested', y = 'TotalPositiveCases', data = testing_details, kind = 'reg', color = 'r')\n",
    "plt.xlabel('Total samples tested')\n",
    "plt.ylabel('Total positive cases')\n",
    "plt.xticks(rotation = 90)\n",
    "plt.tight_layout()\n",
    "plt.show()"
   ]
  },
  {
   "cell_type": "markdown",
   "metadata": {},
   "source": [
    "### 11 States/Union territories and districts with the highest and the lowest number of confirmed COVID-19 cases"
   ]
  },
  {
   "cell_type": "markdown",
   "metadata": {},
   "source": [
    "#### 11.1 Data cleaning and creation of appropriate series"
   ]
  },
  {
   "cell_type": "code",
   "execution_count": null,
   "metadata": {
    "_kg_hide-input": true
   },
   "outputs": [],
   "source": [
    "# series: states/UTs (highest number of confirmed COVID-19 cases)\n",
    "states_highest = individual_details['detected_state'].value_counts().head(10)\n",
    "\n",
    "# series: states/UTs (lowest number of confirmed COVID-19 cases)\n",
    "states_lowest = individual_details['detected_state'].value_counts().tail(10).sort_values()\n",
    "\n",
    "# series: districts (highest number of confirmed COVID-19 cases)\n",
    "districts_highest = individual_details['detected_district'].value_counts().head(10)"
   ]
  },
  {
   "cell_type": "markdown",
   "metadata": {},
   "source": [
    "#### 11.2 States/UTs (highest number of confirmed COVID-19 cases)"
   ]
  },
  {
   "cell_type": "markdown",
   "metadata": {},
   "source": [
    "##### (A) Plot"
   ]
  },
  {
   "cell_type": "code",
   "execution_count": null,
   "metadata": {
    "_kg_hide-input": true
   },
   "outputs": [],
   "source": [
    "plt.figure(figsize=(8, 5), dpi = 100)\n",
    "sns.barplot(x = states_highest.values, y = states_highest.index, palette = 'viridis')\n",
    "plt.title('TOP 10 STATES/UTs WITH THE HIGHEST NUMBER OF CONFIRMED COVID-19 CASES')\n",
    "plt.xlabel('Total number of confirmed cases')\n",
    "plt.ylabel('State/Union territory')\n",
    "plt.tight_layout()\n",
    "plt.show()"
   ]
  },
  {
   "cell_type": "markdown",
   "metadata": {},
   "source": [
    "##### (B) Data table"
   ]
  },
  {
   "cell_type": "code",
   "execution_count": null,
   "metadata": {
    "_kg_hide-input": true
   },
   "outputs": [],
   "source": [
    "print('TOP 10 STATES/UTs WITH THE HIGHEST NUMBER OF CONFIRMED COVID-19 CASES\\n')\n",
    "print(states_highest)"
   ]
  },
  {
   "cell_type": "markdown",
   "metadata": {},
   "source": [
    "#### 11.3 States/UTs (lowest number of confirmed COVID-19 cases)"
   ]
  },
  {
   "cell_type": "markdown",
   "metadata": {},
   "source": [
    "##### (A) Plot"
   ]
  },
  {
   "cell_type": "code",
   "execution_count": null,
   "metadata": {
    "_kg_hide-input": true
   },
   "outputs": [],
   "source": [
    "plt.figure(figsize=(8, 5), dpi = 100)\n",
    "sns.barplot(x = states_lowest.values, y = states_lowest.index, palette = 'viridis')\n",
    "plt.title('TOP 10 STATES/UTs WITH THE LOWEST NUMBER OF CONFIRMED COVID-19 CASES')\n",
    "plt.xlabel('Total number of confirmed cases')\n",
    "plt.ylabel('State/Union territory')\n",
    "plt.tight_layout()\n",
    "plt.show()"
   ]
  },
  {
   "cell_type": "markdown",
   "metadata": {},
   "source": [
    "##### (B) Data table"
   ]
  },
  {
   "cell_type": "code",
   "execution_count": null,
   "metadata": {
    "_kg_hide-input": true
   },
   "outputs": [],
   "source": [
    "print('TOP 10 STATES/UTs WITH THE LOWEST NUMBER OF CONFIRMED COVID-19 CASES\\n')\n",
    "print(states_lowest)"
   ]
  },
  {
   "cell_type": "markdown",
   "metadata": {},
   "source": [
    "#### 11.4 Districts (highest number of confirmed COVID-19 cases)"
   ]
  },
  {
   "cell_type": "markdown",
   "metadata": {},
   "source": [
    "##### (A) Plot"
   ]
  },
  {
   "cell_type": "code",
   "execution_count": null,
   "metadata": {
    "_kg_hide-input": true,
    "_kg_hide-output": false
   },
   "outputs": [],
   "source": [
    "plt.figure(figsize=(8, 5), dpi = 100)\n",
    "sns.barplot(x = districts_highest.values, y = districts_highest.index, palette = 'viridis')\n",
    "plt.title('TOP 10 DISTRICTS WITH THE HIGHEST NUMBER OF CONFIRMED COVID-19 CASES')\n",
    "plt.xlabel('Total number of confirmed cases')\n",
    "plt.ylabel('District')\n",
    "plt.tight_layout()\n",
    "plt.show()"
   ]
  },
  {
   "cell_type": "markdown",
   "metadata": {},
   "source": [
    "##### (B) Data table"
   ]
  },
  {
   "cell_type": "code",
   "execution_count": null,
   "metadata": {
    "_kg_hide-input": true
   },
   "outputs": [],
   "source": [
    "print('TOP 10 DISTRICTS WITH THE HIGHEST NUMBER OF CONFIRMED COVID-19 CASES\\n')\n",
    "print(districts_highest)"
   ]
  },
  {
   "cell_type": "markdown",
   "metadata": {},
   "source": [
    "#### 11.5 Districts (lowest number of confirmed COVID-19 cases)"
   ]
  },
  {
   "cell_type": "code",
   "execution_count": null,
   "metadata": {
    "_kg_hide-input": true
   },
   "outputs": [],
   "source": [
    "print('DISTRICTS WITH ONLY 1 CONFIRMED COVID-19 CASE\\n')\n",
    "for dist, cnt in zip(individual_details['detected_district'].value_counts().index, individual_details['detected_district'].value_counts().values):\n",
    "    # check if there's only 1 positive case in the district and the district name doesn't contain '*', such as 'Other Region*', 'Other States*' and 'Italians*' \n",
    "    if cnt == 1 and '*' not in dist:\n",
    "        print(dist)"
   ]
  },
  {
   "cell_type": "markdown",
   "metadata": {},
   "source": [
    "## Important COVID-19 details of India and each of its states and union territories"
   ]
  },
  {
   "cell_type": "code",
   "execution_count": null,
   "metadata": {
    "_kg_hide-input": true
   },
   "outputs": [],
   "source": [
    "# create a dataframe with important COVID-19 details for each Indian state/UT as well as India\n",
    "\n",
    "# sort by total number of confirmed cases in non-ascending order\n",
    "covid_19_details = statewise_data.drop(columns = ['Population', 'Density (per km2)', 'Total cases per million people']).sort_values('Confirmed', ascending = False)\n",
    "\n",
    "# add serial number (as index) to the dataframe\n",
    "covid_19_details['Sno'] = range(len(covid_19_details['State / Union Territory']))\n",
    "covid_19_details.set_index('Sno', inplace = True)\n",
    "\n",
    "print('IMPORTANT COVID-19 DETAILS OF INDIA AND EACH OF ITS STATES AND UNION TERRITORIES\\n')\n",
    "print(covid_19_details)"
   ]
  },
  {
   "cell_type": "code",
   "execution_count": null,
   "metadata": {},
   "outputs": [],
   "source": []
  }
 ],
 "metadata": {
  "kernelspec": {
   "display_name": "Python 3",
   "language": "python",
   "name": "python3"
  },
  "language_info": {
   "codemirror_mode": {
    "name": "ipython",
    "version": 3
   },
   "file_extension": ".py",
   "mimetype": "text/x-python",
   "name": "python",
   "nbconvert_exporter": "python",
   "pygments_lexer": "ipython3",
   "version": "3.7.4"
  }
 },
 "nbformat": 4,
 "nbformat_minor": 4
}
